{
 "cells": [
  {
   "cell_type": "code",
   "execution_count": 36,
   "metadata": {},
   "outputs": [],
   "source": [
    "import os\n",
    "import requests\n",
    "from pytubefix import YouTube\n",
    "import sys\n",
    "import time\n",
    "import re\n",
    "from pprint import pprint"
   ]
  },
  {
   "cell_type": "code",
   "execution_count": 37,
   "metadata": {},
   "outputs": [],
   "source": [
    "def youtube_download(url, path=\".\"):\n",
    "    yt = YouTube(url=url)\n",
    "    print(yt.title)\n",
    "\n",
    "    dl_yt_thumbnail(yt)\n",
    "\n",
    "    dl_yt_audio_mp3(yt)\n",
    "\n",
    "    return 0\n",
    "\n",
    "\n",
    "def dl_yt_thumbnail(yt: YouTube):\n",
    "    thumbnail_url = yt.thumbnail_url\n",
    "\n",
    "    thumbnail_response = requests.get(thumbnail_url)\n",
    "\n",
    "    if thumbnail_response.status_code == 200:\n",
    "        thumbnail_file = os.path.join(\".\", \"thumbnail.jpg\")\n",
    "        with open(thumbnail_file, \"wb\") as f:\n",
    "            f.write(thumbnail_response.content)\n",
    "        print(\"Thumbnail saved!\")\n",
    "    else:\n",
    "        print(f\"Error: {thumbnail_response.status_code}\")\n",
    "\n",
    "\n",
    "def dl_yt_audio_mp3(yt: YouTube):\n",
    "    audio_stream = yt.streams.filter(only_audio=True).first()\n",
    "    audio_dl = yt.streams.get_audio_only()\n",
    "    audio_dl.download(filename=\"audio_test\", mp3=True)"
   ]
  },
  {
   "cell_type": "code",
   "execution_count": 38,
   "metadata": {},
   "outputs": [],
   "source": [
    "youtube_url = \"https://www.youtube.com/watch?v=jTrBGdoehPI\""
   ]
  },
  {
   "cell_type": "code",
   "execution_count": 39,
   "metadata": {},
   "outputs": [
    {
     "name": "stdout",
     "output_type": "stream",
     "text": [
      "Frequent flyer’s travel EDC (Amazon Must Haves)\n",
      "Thumbnail saved!\n"
     ]
    },
    {
     "data": {
      "text/plain": [
       "0"
      ]
     },
     "execution_count": 39,
     "metadata": {},
     "output_type": "execute_result"
    }
   ],
   "source": [
    "youtube_download(youtube_url)"
   ]
  },
  {
   "cell_type": "code",
   "execution_count": 50,
   "metadata": {},
   "outputs": [
    {
     "data": {
      "text/plain": [
       "True"
      ]
     },
     "execution_count": 50,
     "metadata": {},
     "output_type": "execute_result"
    }
   ],
   "source": [
    "from dotenv import load_dotenv\n",
    "\n",
    "load_dotenv()"
   ]
  },
  {
   "cell_type": "code",
   "execution_count": 51,
   "metadata": {},
   "outputs": [],
   "source": [
    "from openai import OpenAI"
   ]
  },
  {
   "cell_type": "code",
   "execution_count": 53,
   "metadata": {},
   "outputs": [],
   "source": [
    "client = OpenAI(api_key=os.getenv(\"OPENAI_API_KEY\"))"
   ]
  },
  {
   "cell_type": "code",
   "execution_count": 58,
   "metadata": {},
   "outputs": [
    {
     "name": "stdout",
     "output_type": "stream",
     "text": [
      "This is a test."
     ]
    }
   ],
   "source": [
    "stream = client.chat.completions.create(\n",
    "    model=\"gpt-4\",\n",
    "    messages=[{\"role\": \"user\", \"content\": \"Say this is a test\"}],\n",
    "    stream=True,\n",
    ")\n",
    "for chunk in stream:\n",
    "    print(chunk.choices[0].delta.content or \"\", end=\"\")"
   ]
  },
  {
   "cell_type": "code",
   "execution_count": 59,
   "metadata": {},
   "outputs": [],
   "source": [
    "from openai.types.audio import (\n",
    "    Transcription,\n",
    "    TranscriptionSegment,\n",
    "    TranscriptionVerbose,\n",
    "    TranscriptionWord,\n",
    "    TranscriptionCreateResponse,\n",
    ")"
   ]
  },
  {
   "cell_type": "code",
   "execution_count": 63,
   "metadata": {},
   "outputs": [],
   "source": [
    "from pathlib import Path"
   ]
  },
  {
   "cell_type": "code",
   "execution_count": 66,
   "metadata": {},
   "outputs": [
    {
     "name": "stdout",
     "output_type": "stream",
     "text": [
      "SyncPage[Model](data=[Model(id='gpt-4-1106-preview', created=1698957206, object='model', owned_by='system'), Model(id='chatgpt-4o-latest', created=1723515131, object='model', owned_by='system'), Model(id='dall-e-2', created=1698798177, object='model', owned_by='system'), Model(id='text-embedding-3-large', created=1705953180, object='model', owned_by='system'), Model(id='tts-1', created=1681940951, object='model', owned_by='openai-internal'), Model(id='tts-1-1106', created=1699053241, object='model', owned_by='system'), Model(id='gpt-4-0125-preview', created=1706037612, object='model', owned_by='system'), Model(id='gpt-3.5-turbo-0125', created=1706048358, object='model', owned_by='system'), Model(id='gpt-4-turbo-preview', created=1706037777, object='model', owned_by='system'), Model(id='gpt-3.5-turbo', created=1677610602, object='model', owned_by='openai'), Model(id='whisper-1', created=1677532384, object='model', owned_by='openai-internal'), Model(id='gpt-3.5-turbo-16k', created=1683758102, object='model', owned_by='openai-internal'), Model(id='text-embedding-3-small', created=1705948997, object='model', owned_by='system'), Model(id='gpt-4-turbo-2024-04-09', created=1712601677, object='model', owned_by='system'), Model(id='gpt-4-turbo', created=1712361441, object='model', owned_by='system'), Model(id='gpt-3.5-turbo-1106', created=1698959748, object='model', owned_by='system'), Model(id='tts-1-hd', created=1699046015, object='model', owned_by='system'), Model(id='tts-1-hd-1106', created=1699053533, object='model', owned_by='system'), Model(id='gpt-3.5-turbo-instruct-0914', created=1694122472, object='model', owned_by='system'), Model(id='gpt-4-0613', created=1686588896, object='model', owned_by='openai'), Model(id='gpt-4', created=1687882411, object='model', owned_by='openai'), Model(id='gpt-3.5-turbo-instruct', created=1692901427, object='model', owned_by='system'), Model(id='babbage-002', created=1692634615, object='model', owned_by='system'), Model(id='davinci-002', created=1692634301, object='model', owned_by='system'), Model(id='dall-e-3', created=1698785189, object='model', owned_by='system'), Model(id='gpt-4o-2024-05-13', created=1715368132, object='model', owned_by='system'), Model(id='gpt-4o-2024-08-06', created=1722814719, object='model', owned_by='system'), Model(id='gpt-4o', created=1715367049, object='model', owned_by='system'), Model(id='text-embedding-ada-002', created=1671217299, object='model', owned_by='openai-internal'), Model(id='gpt-4o-mini', created=1721172741, object='model', owned_by='system'), Model(id='gpt-4o-mini-2024-07-18', created=1721172717, object='model', owned_by='system')], object='list')\n"
     ]
    }
   ],
   "source": [
    "pprint(client.models.list())"
   ]
  },
  {
   "cell_type": "code",
   "execution_count": 69,
   "metadata": {},
   "outputs": [],
   "source": [
    "transcription_response = client.audio.transcriptions.create(\n",
    "    file=Path(\"audio_test.mp3\"),\n",
    "    language=\"en\",\n",
    "    model=\"whisper-1\",\n",
    ")"
   ]
  },
  {
   "cell_type": "code",
   "execution_count": 70,
   "metadata": {},
   "outputs": [
    {
     "data": {
      "text/plain": [
       "\"It's the first time ever I order Uber Eats this early. But you see I'm a bit tight on time because I have to pack. Apparently I'm going to Jackson Hole for a Polestar campaign and it's got nothing to do with this video but this being the 20th time I leave this year I figured I would show you my perfect minimal flying everyday carry bag. I've been on so many flights this year and to be honest I've developed this obsession with how to make my travels easier on me which is why I literally came up with a minimal flying everyday carry bag I can bring 99% of items from Amazon but this to me is useful whenever I decide to transport my camera and a backpack. Truthfully I really do wish I could bring you guys all the time to these type of events. Let's take a look at what I packed to get here and how my flight time went. So this here is codename 154 City Pack. The only item here that doesn't sell on Amazon. I just recently brought this with me to Berlin. I've gotta say it's incredibly well sorted. It's why I love their bags. I wasn't expecting for this to fit all the gear in this video but it does which is amazing. It makes flying a lot more enjoyable simply because I've got all I need in this little guy right here. So it's a bag that is made in Italian leather offering lifetime warranty. Amazing because it's definitely not cheap. They also offer add-ons throughout your purchase which mainly include some choices when it comes to the strap. I went with the 38mm padded strap. I've seen a few people rock LV straps which is really really nice. If you like fashion then that's definitely something you can consider. Overall though, it really is a light bag coming in at 520g and it offers a 4L capacity. It can fit really nicely within most airplane seat pockets. On their website, they enumerate all sorts of things you can carry. I personally love the magnetic pouch this has for glasses. I love how it's used as a divider to create two deep pockets and that same divider has a zipper compartment. They say the divider close to your chest can be used for an iPad but I use it for my headphones and the divider furthest away can be used for all sorts of things. It's got three front pockets, a small little pouch, you can put cards within the label and it's got two side pockets for cables. The outside of the bag also has a couple of zippered pockets. The same sort of zipper that is used on the main compartment. It's a really really clean bag and instead of using my pocket for my phone, I tend to just use the main compartment for it. This here is my Pixel 9 Pro XL. With the release of the iPhone, I'm leaving it up to you guys whether you want a long term review of this or you'd like for me to switch to the iPhone to review that instead. Let me know down below but essentially this has been my main phone since it was announced. I absolutely love this phone, I think I love it just as much as the S24 Ultra. The battery life on this is really really good, especially towards the end of a charge like when this phone sits at 10% it really does mean you've got 10% left. It can last you for hours depending on how you use it of course. This is my main source of entertainment on a plane if I travel light. Of course I can use the iPad or my Beam Pro but for this minimal bag, I like using my phone. It's got a 6.8 inch OLED Super Actual Display with LTPO, delivering a 20 by 9 aspect ratio with 496 PPI and Corning Gorilla Glass Victus 2. It was a bit disappointing it didn't have Corning Gorilla Armor, I mean the reduced reflectivity on the S24 Ultra is so good but luckily the Pixel's reflectivity doesn't bother me at all during flights, especially since it offers peak brightness levels of 3000 nits in HDR. So if you do sit by a window and it's bright outside, this phone delivers way more than enough brightness. Same experience, say I listen to some movies, a few podcasts and music during a 6 hour flight, this can consume a total of around 40% in battery life depending on the brightness of course and typical of Pixel, it's got amazing cameras. Great camera setup for traveling with Bluetooth also being highly reliable as I've never experienced any sort of disconnections while using it. My Pixel sits within the Affleck series from Caseology. I wanted something that would look cool and something comfortable, I say comfortable because this has these accent lines that fit your fingers super nicely, almost like a super puff jacket, I quite like it. However, unlike the puffs, this has a rugged sandstone texture, I find it reassures me with my grip. When I had no case during my review, my phone kept dropping out of my pockets because it was so smooth. With this, well it's not the case at all. It slides a lot less within my pockets. Of course, Caseology offers other types of cases for the Pixel like the Capella which is a clear case with or without a kickstand or the Parallax which offers the same feature but with geometric patterns and a few colors. And of course, the Nanopop, something a bit more minimal, this is actually their best seller. They've got the passport holder which I used a lot in Berlin. This is now my travel wallet, I've got a bit of an addiction with these but it fits really well in my bag. What I like the most about it is how it's able to integrate so many things into one. For example, not only can I store up to 4 cards with my passport, SIM ejector and SIM cards but it's got compartments for my boarding pass and receipts when I travel, something a lot of the wallets I've been trying sort of disregard. It's got the ability to hold an AirTag if you really need it. It's made in vegan leather, has a magnetic closing strap and it can act as a phone holder if you'd like. It's a really good overall travel wallet, especially for the price. Now I did slightly have to modify my Caseology case, I had to install a MOFT ring within. This is to simply allow me to stick my MOFT tripod wallet stand, I honestly just can't live without it. I work closely with MOFT and I remember when they first released their tripod stand, I really wanted them to include a wallet pouch within. They listened and they've done it. This is my favorite piece of MagSafe accessory of God and I bring it with me everywhere I go. I really do everything I can to include them within my other phones. This snap tripod stand wallet is strong enough to hold an iPad mini upright. You can use it within your nightstand to charge your iPhone and use standby. It's got a maximum height of 8 inches, up to 270 degrees angle adjustment, it can be used in various modes and it barely adds any thickness to your phone which means it barely weighs anything. The wallet can store up to 2 cards, I usually like to keep a backup credit card and my drivers license. On the plane, it becomes super handy because you can pop out the tray and use the tripod however you'd like to consume movies and shows. The whole thing is just really well done. But for a lot of people, the MOFT tripod within a plane might not be the best thing to use, I totally understand that. You might want something a bit more eye leveled and I get it. So I often bring the Spigen OneTap Pro with me. This along with my MOFT tripod tends to be the piece of accessories people ask me the most about during my flights. I use the clamp to clamp it pretty much anywhere, it will work on your tray table but the trick here is to clamp it where the tray table closes. It's the best way to get your phone as close as possible to eye level. Within airports, I also like to clamp it within my luggage handles to consume content. Like as long as you can clamp it, you can really mount your phone anywhere and practically consume your stuff. On top of that, the clamp arm is also long enough to rest your headphones. Headphones or a battery pack if you have one of those. Like if your phone is dying but you still want to use it, you can let the battery pack sit on top of the arm and keep watching movies. It's hella neat and small enough to transport. My headphones of choice, the Bose QuietComfort Ultras, powered by Snapdragon now. These are literally my baby blockers. Ever since I got them, I bring these everywhere with me, plus somehow, I am able to make them fit in my bag, they fold really nicely. I chose Bose because to me, they've got the best noise cancellation technology in the market. Sure sound is debatable but when you pair that with their ANC, man those babies in the plane stay real quiet. Or as quiet as they can be. I also love the fact these can connect to multiple devices at the same time, they keep a steady and reliable connection with my phone and my iPad when I travel. So say I need to work in the plane, I whip out my iPad and bam, these are connected right away. The Bose app has all sorts of functions as well, like you can modify your EQ if you really want to. I barely find myself using the app to be honest, I'm more amazed about their ANC and also comfort. I don't want to forget to mention that I rocked these for 6 hours straight during flights. The band doesn't make the top of my scalp hurt and the cups for my ears sit really snug and comfortable. I will say though, at the end of the 6 hours, my ears are a tiny bit sore though so I don't want to say it's perfect but comfort is still really really good, especially since they are really light. These now get paired with my X-Real glasses and thankfully the temples of the glasses don't cause discomfort with my headphones. I started recently using these a lot during flights, it's the most immersive experience you'll ever get in this phone factor. I absolutely love watching my movies with this. Of course watching movies on the Beam Pro is nicer as the theatrical experience is much better and you're also not spending your own battery life. However the experience is still really good when you connect these to the Pixel. So these are the X-Real Air 2's. These use Sony's latest micro OLED displays with a 1080p per eye resolution that supports up to 120Hz refresh rate and can output a projection of 130 inches with a 46 degree field of view. Being made by Sony with colors calibrated by the help of TUV Rainland, the image quality is absolutely stunning. If I was to compare this with my own Pixel, I'd say the Pixel tends to lean a bit more towards the greens and the glasses towards the pinks. And what I really like about these when flying is that they have a self-built-in shade. So with one button, you can enable it, I don't need to carry their shaders with me in my bag. It's also got the ability to adjust the nose clip, a 3 different option arm adjustment, it's got a full built-in speaker system and they bundle these up with a prescription lens accessory if you need it. I would love to also give the Ray Neo Air 2 glasses a try, they also sell them on Amazon but look, for now, I really like prioritizing these for content during my flights, plus they don't take up much room in my pouch. The last item that's a must, probably one of the most important things to bring with you, the Anker 3-in-1 power bank. This is one of the best battery packs you can buy on Amazon, I think it's probably the best from all the battery packs I've personally tried. The design Anker came up with when they built this was genius. This here is a battery pack that offers an integrated USB-C cable offering fast charging and a small form factor offering up to 10,000mAh with an integrated power button and a USB-C port but the thing that really makes it extremely versatile is the built-in foldable AC plug. Not only does it charge the battery pack when out of juice but you can use this whole thing as a power brick when traveling. It really is a 3-in-1 and it's my favorite battery pack ever. I'm probably going to talk a lot about this within the next year or so so expect to see it often. It's gotten me out of crazy situations multiple times, it's easy to carry, it delivers a built-in screen to let you know how much juice you've got left and it can almost charge up to 2 Pixel 9 Pro XLs in full. Great little battery pack, you can get around 60% in about 35 minutes on the Pixel and it'll empty it to about 60%. This is it, my little minimal Amazon-based flying ADC for 2024. I know the bag isn't sold on Amazon but Grams 28 has been a brand I've been using a lot lately for bags, I really like how they look and they've been reliable up to now. I'm so happy I've been able to work with a lot of automotive brands lately, it's a dream come true for me so shoutout to them. I'll leave a link to all of the items down below and I guess I'll see you guys all soon, take care.\""
      ]
     },
     "execution_count": 70,
     "metadata": {},
     "output_type": "execute_result"
    }
   ],
   "source": [
    "transcription_response.text"
   ]
  },
  {
   "cell_type": "code",
   "execution_count": 71,
   "metadata": {},
   "outputs": [],
   "source": [
    "summary_response = client.chat.completions.create(\n",
    "    model=\"chatgpt-4o-latest\",\n",
    "    messages=[\n",
    "        {\"role\": \"user\", \"content\": \"Summarize the following text:\"},\n",
    "        {\"role\": \"user\", \"content\": transcription_response.text},\n",
    "    ],\n",
    "    stream=True,\n",
    ")\n",
    "\n"
   ]
  },
  {
   "cell_type": "code",
   "execution_count": 74,
   "metadata": {},
   "outputs": [
    {
     "name": "stdout",
     "output_type": "stream",
     "text": [
      "The text describes the author's experience preparing for a trip, specifically focusing on their minimal everyday carry (EDC) kit designed for hassle-free flights. The author explains that they've been on many flights this year and have developed a preference for simple and efficient packing. They detail various items they carry, especially highlighting a minimal Italian leather bag they use — the 154 City Pack — which is not available on Amazon but has great capacity and thoughtful design. Alongside the bag, the author discusses electronics like their Pixel 9 Pro XL phone (praising its display, battery life, and camera), accessories like a Caseology phone case and MOFT wallet stand, and travel essentials such as the Bose QuietComfort Ultra headphones, X-Real AR glasses for immersive media consumption, and an Anker 3-in-1 power bank. The text emphasizes the practicality of these items in making travel more convenient, with a focus on lightweight, versatile gear often available on Amazon. The author concludes by mentioning their excitement about recent work in the automotive sector and invites feedback for future tech reviews."
     ]
    }
   ],
   "source": [
    "for chunk in summary_response:\n",
    "    print(chunk.choices[0].delta.content or \"\", end=\"\")"
   ]
  },
  {
   "cell_type": "code",
   "execution_count": 40,
   "metadata": {},
   "outputs": [],
   "source": [
    "import torch\n",
    "from transformers import AutoModelForSpeechSeq2Seq, AutoProcessor, pipeline"
   ]
  },
  {
   "cell_type": "code",
   "execution_count": 41,
   "metadata": {},
   "outputs": [
    {
     "data": {
      "text/plain": [
       "True"
      ]
     },
     "execution_count": 41,
     "metadata": {},
     "output_type": "execute_result"
    }
   ],
   "source": [
    "torch.cuda.is_available()"
   ]
  },
  {
   "cell_type": "code",
   "execution_count": 42,
   "metadata": {},
   "outputs": [],
   "source": [
    "device = \"cuda:0\" if torch.cuda.is_available() else \"cpu\"\n",
    "torch_dtype = torch.float16 if torch.cuda.is_available() else torch.float32\n",
    "\n",
    "model_id = \"openai/whisper-large-v3-turbo\"\n",
    "\n",
    "model = AutoModelForSpeechSeq2Seq.from_pretrained(\n",
    "    model_id, torch_dtype=torch_dtype, low_cpu_mem_usage=True, use_safetensors=True\n",
    ")\n",
    "model.to(device)\n",
    "\n",
    "processor = AutoProcessor.from_pretrained(model_id)\n",
    "\n",
    "pipe = pipeline(\n",
    "    \"automatic-speech-recognition\",\n",
    "    model=model,\n",
    "    tokenizer=processor.tokenizer,\n",
    "    feature_extractor=processor.feature_extractor,\n",
    "    torch_dtype=torch_dtype,\n",
    "    device=device,\n",
    "    return_timestamps=True,\n",
    ")"
   ]
  },
  {
   "cell_type": "code",
   "execution_count": 43,
   "metadata": {},
   "outputs": [],
   "source": [
    "result = pipe(\"audio_test.mp3\")"
   ]
  },
  {
   "cell_type": "code",
   "execution_count": 44,
   "metadata": {},
   "outputs": [
    {
     "name": "stdout",
     "output_type": "stream",
     "text": [
      "(\" It's the first time ever I order Uber Eats this early. But you see, I'm a \"\n",
      " \"bit tight on time because I have to pack. Apparently, I'm going to Jackson \"\n",
      " \"Hole for a Polestar campaign, and it's got nothing to do with this video. \"\n",
      " 'But this being the 20th time I leave this year, I figured I would show you '\n",
      " \"my perfect minimal flying everyday carry. I've been on so many flights this \"\n",
      " \"year and to be honest I've developed this obsession with how to make my \"\n",
      " 'travels easier on me which is why I literally came up with a minimal flying '\n",
      " 'everyday carry bag I can bring 99% of items from Amazon but this to me is '\n",
      " 'useful whenever I decide to transport my camera and a backpack. Sometimes I '\n",
      " 'really wonder how the heck we got here. Truthfully I really do wish I could '\n",
      " \"bring you guys all the time to these type of events. Anyways, let's take a \"\n",
      " 'look at what I packed to get here and how my flight time went. So this here '\n",
      " \"is codename 154 City Pack. The only item here that doesn't sell on Amazon. I \"\n",
      " \"just recently brought this with me to Berlin. I've got to say, it's \"\n",
      " \"incredibly well sorted. It's why I love their bags. I wasn't expecting for \"\n",
      " 'this to fit all the gear in this video, but it does, which is amazing. It '\n",
      " \"makes flying a lot more enjoyable simply because I've got all I need in this \"\n",
      " \"little guy right here. So it's a bag that is made in Italian leather \"\n",
      " \"offering lifetime warranty. Amazing because it's definitely not cheap. They \"\n",
      " 'also offer add-ons throughout your purchase, which mainly includes some '\n",
      " 'choices when it comes to the strap. I went with the 38 millimeter padded '\n",
      " 'strap. I have seen a few people rock LV straps, which is really, really '\n",
      " \"nice. If you like fashion, then that's definitely something you can \"\n",
      " 'consider. Overall though, it really is a light bag coming in at 520 grams '\n",
      " 'and it offers a 4 liter capacity. It can fit really nicely within most '\n",
      " 'airplane seat pockets. On their website, they enumerate all sorts of things '\n",
      " 'you can carry. I personally love the magnetic pouch this has for glasses. I '\n",
      " \"love how it's used as a divider to create 2D pockets and that same divider \"\n",
      " 'has a zipper compartment. They say the divider close to your chest can be '\n",
      " 'used for an iPad, but I use it for my headphones, and the divider furthest '\n",
      " \"away can be used for all sorts of things. It's got three front pockets, a \"\n",
      " \"small little pouch, you can put cards within the label, and it's got two \"\n",
      " 'side pockets for cables. The outside of the bag also has a couple of '\n",
      " 'zippered pockets, the same sort of zipper that is used on the main '\n",
      " \"compartment. It's a really, really clean bag, and instead of using my pocket \"\n",
      " \"for my phone, I tend to just use the main compartment for it. This here's my \"\n",
      " \"Pixel 9 Pro XL with the release of the iPhone. I'm leaving it up to you guys \"\n",
      " \"whether you want a long-term review of this or you'd like for me to switch \"\n",
      " 'to the iPhone to review that instead. Let me know down below, but '\n",
      " 'essentially this has been my main phone since it was announced. I absolutely '\n",
      " 'love this phone. I think I love it just as much as the S24 Ultra. The '\n",
      " 'battery life on this is really, really good, especially towards the end of a '\n",
      " \"charge. Like when this phone sits at 10%, it really does mean you've got 10% \"\n",
      " 'left. It can last you for hours depending on how you use it, of course. This '\n",
      " 'is my main source of entertainment on a plane if I travel light. Of course, '\n",
      " 'I can use the iPad or my Beam Pro, but for this minimal bag, I like using my '\n",
      " \"phone. It's got a 6.8-inch OLED Super Actua display with LTPO, delivering a \"\n",
      " '20 by 9 aspect ratio with 496 ppi and Corning Gorilla Glass Victus 2. It was '\n",
      " \"a bit disappointing it didn't have Corning Gorilla Armor, I mean the reduced \"\n",
      " \"reflectivity on the S24 Ultra is so good, but luckily the Pixel's \"\n",
      " \"reflectivity doesn't bother me at all during flights, especially since it \"\n",
      " 'offers peak brightness levels of 3000 nits in HDR. So if you do sit by a '\n",
      " \"window and it's bright outside, this phone delivers way more than enough \"\n",
      " 'brightness. From experience, say I listen to some movies, a few podcasts, '\n",
      " 'and music during a six-hour flight, this can consume a total of around 40% '\n",
      " 'in battery life depending on the brightness of course and typical of Pixel, '\n",
      " \"it's got amazing cameras. Great camera setup for traveling with Bluetooth \"\n",
      " \"also being highly reliable as I've never experienced any sort of \"\n",
      " 'disconnections while using it. My Pixel sits within the Affleck series from '\n",
      " 'Caseology. I wanted something that would look cool and something '\n",
      " 'comfortable. I say comfortable because this has these accent lines that fit '\n",
      " 'your fingers super nicely, almost like a super puff jacket. I quite like it. '\n",
      " 'However, unlike the puffs, this has a rugged sandstone texture. I find it '\n",
      " 'reassures me with my grip when I had no case during my review, my phone kept '\n",
      " \"dropping out of my pockets because it was so smooth. With this, well, it's \"\n",
      " \"not the case at all. Did you get that joke? It's not the case at all. It's \"\n",
      " \"not the case case. Jesus, I'm so tired. It slides a lot less within my \"\n",
      " 'pockets. Of course, Casology offers other types of cases for the Pixel, like '\n",
      " 'the Capella, which is a clear case with or without a kickstand, or the '\n",
      " 'Parallax, which offers the same feature, but with geometric patterns, and a '\n",
      " 'few colors. And of course, the Nanopop, something a bit more minimal. This '\n",
      " \"is actually their best seller. They've got the passport holder, which I used \"\n",
      " \"a lot in Berlin. This is now my travel wallet. I've got a bit of an \"\n",
      " 'addiction with these, but it fits really well in my bag. What I like the '\n",
      " \"most about it is how it's able to integrate so many things into one. For \"\n",
      " 'example, not only can I store up to four cards with my passport, SIM '\n",
      " \"ejector, and SIM cards, but it's got compartments for my boarding pass and \"\n",
      " 'receipts when I travel, something a lot of the wallets have been trying sort '\n",
      " \"of disregard. It's got the ability to hold an AirTag if you really need it. \"\n",
      " \"It's made in V-leather, has a magnetic closing strap, and it can act as a \"\n",
      " \"phone holder if you'd like. It's a really good overall travel wallet, \"\n",
      " 'especially for the price. Now, I did slightly have to modify my caseology '\n",
      " 'case. I had to install a moft ring within. This is to simply allow me to '\n",
      " \"stick my Moft tripod wallet stand. I honestly just can't live without it. I \"\n",
      " 'work closely with Moft and I remember when they first released their tripod '\n",
      " 'stand, I really wanted them to include a wallet pouch within. They listened '\n",
      " \"and they've done it. This is my favorite piece of MagSafe accessory I've got \"\n",
      " 'and I bring it with me everywhere I go. I really do everything I can to '\n",
      " 'include them within my other phones. This snap tripod stand wallet is strong '\n",
      " 'enough to hold an iPad mini upright. You can use it within your nightstand '\n",
      " \"to charge your iPhone and use standby. It's got a maximum height of 8 \"\n",
      " 'inches, up to 270 degrees angle adjustment. It can be used in various modes '\n",
      " 'and it barely adds any thickness to your phone, which means it barely weighs '\n",
      " 'anything. The wallet can store up to two carts. I usually like to keep a '\n",
      " \"backup credit card and my driver's license. on the plane, it becomes super \"\n",
      " \"handy because you can pop out the tray and use the tripod however you'd like \"\n",
      " 'to consume movies and shows. The whole thing is just really well done. But '\n",
      " 'for a lot of people, the MOF tripod within a plane might not be the best '\n",
      " 'thing to use. I totally understand that. You might want something a bit more '\n",
      " 'eye-leveled, and I get it. So I often bring the Spigen OneTap Pro with me. '\n",
      " 'This along my MOF tripod tends to be the piece of accessories people ask me '\n",
      " 'the most about during my flights. I use the clamp to clamp it pretty much '\n",
      " 'anywhere. It will work on your tray table, but the trick here is to clamp it '\n",
      " \"where the tray table closes. It's the best way to get your phone as close as \"\n",
      " 'possible to eye level. Within airports, I also like to clamp it within my '\n",
      " 'luggage handles to consume content. Like, as long as you can clamp it, you '\n",
      " 'can really mount your phone anywhere and practically consume your stuff. On '\n",
      " 'top of that, the clamp arm is also long enough to rest your headphones. '\n",
      " 'Headphones or a battery pack if you have one of those. Like if your phone is '\n",
      " 'dying but you still want to use it, you can let the battery pack sit on top '\n",
      " \"of the arm and keep watching movies. It's hella neat and small enough to \"\n",
      " 'transport. My headphones of choice, the Bose QuietComfort Ultras, powered by '\n",
      " 'Snapdragon now. These are literally my baby blockers. Ever since I got them, '\n",
      " \"I bring these everywhere with me. Plus, somehow, I'm able to make them fit \"\n",
      " \"in my bag. They fold really nicely. I chose Bose because, to me, they've got \"\n",
      " 'the best noise cancellation technology in the market. Sure, sound is '\n",
      " 'debatable, but when you pair that with their ANC, man, those babies in the '\n",
      " 'plane stay real quiet. Or as quiet as they can be. I also love the fact '\n",
      " 'these can connect to multiple devices at the same time. They keep a steady '\n",
      " 'and reliable connection with my phone and my iPad when I travel. So say I '\n",
      " 'need to work in the plane, I whip out my iPad and bam, these are connected '\n",
      " 'right away. The Bose app has all sorts of functions as well, like you can '\n",
      " 'modify your EQ if you really want to. I barely find myself using the app to '\n",
      " \"be honest. I'm more amazed about their ANC and also comfort. I don't want to \"\n",
      " 'forget to mention that I rocked these for six hours straight during flights. '\n",
      " \"The band doesn't make the top of my scalp hurt and the cups for my ears sit \"\n",
      " 'really snug and comfortable. I will say though, at the end of the 6 hours, '\n",
      " \"my ears are a tiny bit sore though, so I don't want to say it's perfect, but \"\n",
      " 'comfort is still really, really good, especially since they are really '\n",
      " 'light. These now get paired with my Xreal glasses and thankfully the temples '\n",
      " \"of the glasses don't cause discomfort with my headphones. I started recently \"\n",
      " \"using these a lot during flights, it's the most immersive experience you'll \"\n",
      " 'ever get in this form factor. I absolutely love watching my movies with '\n",
      " 'this. Of course, watching movies on the Beam Pro is nicer as the theatrical '\n",
      " \"experience is much better and you're also not spending your own battery \"\n",
      " 'life. However, the experience is still really good when you connect these to '\n",
      " \"the Pixel. So these are the X-Real Air 2s. These use Sony's latest \"\n",
      " 'micro-OLED displays with a 1080p per eye resolution that supports up to '\n",
      " '120Hz refresh rate and can output a projection of 130 inches with a 46 '\n",
      " 'degree field of view. Being made by Sony with colors calibrated by the help '\n",
      " 'of TUV Rainland, the image quality is absolutely stunning. If I was to '\n",
      " \"compare this with my own Pixel, I'd say the Pixel tends to lean a bit more \"\n",
      " 'towards the greens and the glasses towards the pinks. And what I really like '\n",
      " 'about these when flying is that they have a self-built-in shade. So with one '\n",
      " \"button, you can enable it. I don't need to carry their shaders with me and \"\n",
      " \"my bag. It's also got the ability to adjust the nose clip, a three different \"\n",
      " \"option arm adjustment. It's got a full built-in speaker system, and they \"\n",
      " 'bundle these up with a prescription lens accessory if you need it. I would '\n",
      " 'love to also give the Rayneo Air 2 glasses a try. They also sell them on '\n",
      " 'Amazon, but look, for now, I really like prioritizing these for content '\n",
      " \"during my flights. Plus, they don't take up much room in my pouch. The last \"\n",
      " \"item that's a must, probably one of the most important things to bring with \"\n",
      " 'you, the Anker 3-in-1 power bank. This is one of the best battery packs you '\n",
      " \"can buy on Amazon. I think it's probably the best from all the battery packs \"\n",
      " \"I've personally tried. The design Anker came up with when they built this \"\n",
      " 'was genius. This here is a battery pack that offers an integrated USB-C '\n",
      " 'cable offering fast charging and a small foam factor offering up to 10,000 '\n",
      " 'milliamps with an integrated power button and a USB-C port. But the thing '\n",
      " 'that really makes it extremely versatile is the built-in foldable AC plug. '\n",
      " 'Not only does it charge the battery pack when out of juice, but you can use '\n",
      " 'this whole thing as a power brick when traveling. It really is a '\n",
      " \"three-in-one and it's my favorite battery pack ever. I'm probably going to \"\n",
      " 'talk a lot about this within the next year or so, so expect to see it often. '\n",
      " \"It's gotten me out of crazy situations multiple times. It's easy to carry. \"\n",
      " \"It delivers a built-in screen to let you know how much juice you've got \"\n",
      " 'left, and it can almost charge up to two Pixel 9 Pro Excels in full. Great '\n",
      " 'little battery pack. You can get around 60% in about 35 minutes on the '\n",
      " \"Pixel, and it'll empty it to about 60%. This is it, my little minimal \"\n",
      " \"Amazon-based Flying ADC for 2024. I know the bag isn't sold on Amazon, but \"\n",
      " \"Grams28 has been a brand I've been using a lot lately for bags. I really \"\n",
      " \"like how they look and they've been reliable up to now. I'm so happy I've \"\n",
      " \"been able to work with a lot of automotive brands lately. It's a dream come \"\n",
      " \"true for me, so shout out to them. I'll leave a link to all of the items \"\n",
      " \"down below, and I guess I'll see you guys all soon. Take care. you\")\n"
     ]
    }
   ],
   "source": [
    "pprint(result[\"text\"])"
   ]
  },
  {
   "cell_type": "code",
   "execution_count": 45,
   "metadata": {},
   "outputs": [],
   "source": [
    "import ollama"
   ]
  },
  {
   "cell_type": "code",
   "execution_count": 46,
   "metadata": {},
   "outputs": [],
   "source": [
    "system_prompt = \"Summarize the following transcript from a youtube video: '\"\n",
    "system_prompt += result[\"text\"]"
   ]
  },
  {
   "cell_type": "code",
   "execution_count": 47,
   "metadata": {},
   "outputs": [],
   "source": [
    "response = ollama.chat(\n",
    "    model=\"llama3.1\", messages=[{\"role\": \"user\", \"content\": system_prompt}]\n",
    ")"
   ]
  },
  {
   "cell_type": "code",
   "execution_count": 48,
   "metadata": {},
   "outputs": [
    {
     "name": "stdout",
     "output_type": "stream",
     "text": [
      "{'created_at': '2024-10-03T13:02:48.6616792Z',\n",
      " 'done': True,\n",
      " 'done_reason': 'stop',\n",
      " 'eval_count': 331,\n",
      " 'eval_duration': 119761465000,\n",
      " 'load_duration': 3067088600,\n",
      " 'message': {'content': \"It seems like you've provided a review of various \"\n",
      "                        'travel-related items, including headphones (Bose), '\n",
      "                        'glasses (Xreal Air 2s), and a power bank (Anker '\n",
      "                        \"3-in-1). Here's a summary of the key points:\\n\"\n",
      "                        '\\n'\n",
      "                        '**Headphones: Bose**\\n'\n",
      "                        '\\n'\n",
      "                        '* The reviewer chose Bose because of their excellent '\n",
      "                        'noise cancellation technology.\\n'\n",
      "                        '* They appreciate how the headphones fold nicely, are '\n",
      "                        'comfortable to wear for extended periods, and have a '\n",
      "                        'reliable connection with multiple devices at once.\\n'\n",
      "                        '* The reviewer loves watching movies on these '\n",
      "                        'headphones, even though they prefer using a bigger '\n",
      "                        'screen like the Beam Pro.\\n'\n",
      "                        '\\n'\n",
      "                        '**Glasses: Xreal Air 2s**\\n'\n",
      "                        '\\n'\n",
      "                        \"* These glasses use Sony's micro-OLED displays with \"\n",
      "                        '1080p per eye resolution and support up to 120Hz '\n",
      "                        'refresh rate.\\n'\n",
      "                        '* They can project a 130-inch image with a 46-degree '\n",
      "                        'field of view, making them suitable for immersive '\n",
      "                        'experiences like movies or games.\\n'\n",
      "                        '* The reviewer likes the built-in shade feature that '\n",
      "                        'can be activated with one button.\\n'\n",
      "                        '\\n'\n",
      "                        '**Power Bank: Anker 3-in-1**\\n'\n",
      "                        '\\n'\n",
      "                        '* This battery pack offers fast charging via USB-C '\n",
      "                        'and has a small foam factor offering up to 10,000 '\n",
      "                        'milliamps.\\n'\n",
      "                        '* It also features a foldable AC plug for versatile '\n",
      "                        'charging options, making it an essential item for '\n",
      "                        'travel.\\n'\n",
      "                        '* The reviewer highly recommends this power bank due '\n",
      "                        'to its reliability and effectiveness in emergency '\n",
      "                        'situations.\\n'\n",
      "                        '\\n'\n",
      "                        '**Other Items Mentioned**\\n'\n",
      "                        '\\n'\n",
      "                        '* A Grams28 bag is mentioned as part of the '\n",
      "                        \"reviewer's travel setup, although it's not available \"\n",
      "                        'on Amazon.\\n'\n",
      "                        '* The reviewer expresses gratitude towards various '\n",
      "                        \"automotive brands they've worked with recently.\",\n",
      "             'role': 'assistant'},\n",
      " 'model': 'llama3.1',\n",
      " 'prompt_eval_count': 1026,\n",
      " 'prompt_eval_duration': 2554277000,\n",
      " 'total_duration': 125384278700}\n"
     ]
    }
   ],
   "source": [
    "pprint(response)"
   ]
  },
  {
   "cell_type": "code",
   "execution_count": 49,
   "metadata": {},
   "outputs": [
    {
     "name": "stdout",
     "output_type": "stream",
     "text": [
      "(\"It seems like you've provided a review of various travel-related items, \"\n",
      " 'including headphones (Bose), glasses (Xreal Air 2s), and a power bank (Anker '\n",
      " \"3-in-1). Here's a summary of the key points:\\n\"\n",
      " '\\n'\n",
      " '**Headphones: Bose**\\n'\n",
      " '\\n'\n",
      " '* The reviewer chose Bose because of their excellent noise cancellation '\n",
      " 'technology.\\n'\n",
      " '* They appreciate how the headphones fold nicely, are comfortable to wear '\n",
      " 'for extended periods, and have a reliable connection with multiple devices '\n",
      " 'at once.\\n'\n",
      " '* The reviewer loves watching movies on these headphones, even though they '\n",
      " 'prefer using a bigger screen like the Beam Pro.\\n'\n",
      " '\\n'\n",
      " '**Glasses: Xreal Air 2s**\\n'\n",
      " '\\n'\n",
      " \"* These glasses use Sony's micro-OLED displays with 1080p per eye resolution \"\n",
      " 'and support up to 120Hz refresh rate.\\n'\n",
      " '* They can project a 130-inch image with a 46-degree field of view, making '\n",
      " 'them suitable for immersive experiences like movies or games.\\n'\n",
      " '* The reviewer likes the built-in shade feature that can be activated with '\n",
      " 'one button.\\n'\n",
      " '\\n'\n",
      " '**Power Bank: Anker 3-in-1**\\n'\n",
      " '\\n'\n",
      " '* This battery pack offers fast charging via USB-C and has a small foam '\n",
      " 'factor offering up to 10,000 milliamps.\\n'\n",
      " '* It also features a foldable AC plug for versatile charging options, making '\n",
      " 'it an essential item for travel.\\n'\n",
      " '* The reviewer highly recommends this power bank due to its reliability and '\n",
      " 'effectiveness in emergency situations.\\n'\n",
      " '\\n'\n",
      " '**Other Items Mentioned**\\n'\n",
      " '\\n'\n",
      " \"* A Grams28 bag is mentioned as part of the reviewer's travel setup, \"\n",
      " \"although it's not available on Amazon.\\n\"\n",
      " \"* The reviewer expresses gratitude towards various automotive brands they've \"\n",
      " 'worked with recently.')\n"
     ]
    }
   ],
   "source": [
    "pprint(response[\"message\"][\"content\"])"
   ]
  }
 ],
 "metadata": {
  "kernelspec": {
   "display_name": ".venv",
   "language": "python",
   "name": "python3"
  },
  "language_info": {
   "codemirror_mode": {
    "name": "ipython",
    "version": 3
   },
   "file_extension": ".py",
   "mimetype": "text/x-python",
   "name": "python",
   "nbconvert_exporter": "python",
   "pygments_lexer": "ipython3",
   "version": "3.12.2"
  }
 },
 "nbformat": 4,
 "nbformat_minor": 2
}
